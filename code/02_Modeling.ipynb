{
 "cells": [
  {
   "cell_type": "markdown",
   "metadata": {},
   "source": [
    "# Clickbait Titles\n",
    "_____________\n",
    "\n",
    "# Part 2 - Modeling"
   ]
  },
  {
   "cell_type": "markdown",
   "metadata": {},
   "source": [
    "### Riche Ngo\n"
   ]
  },
  {
   "cell_type": "code",
   "execution_count": 33,
   "metadata": {},
   "outputs": [],
   "source": [
    "# Import libraries\n",
    "import pandas as pd\n",
    "import numpy as np\n",
    "import matplotlib.pyplot as plt\n",
    "import pickle\n",
    "\n",
    "from scipy import sparse\n",
    "from datetime import datetime\n",
    "\n",
    "from sklearn.pipeline import Pipeline\n",
    "from sklearn.preprocessing import StandardScaler\n",
    "from sklearn.model_selection import train_test_split, GridSearchCV, cross_val_score\n",
    "from sklearn.linear_model import LogisticRegression\n",
    "from sklearn.feature_extraction.text import CountVectorizer, TfidfVectorizer\n",
    "from sklearn.metrics import confusion_matrix, plot_confusion_matrix, plot_roc_curve, precision_recall_fscore_support\n",
    "from sklearn.naive_bayes import MultinomialNB, BernoulliNB\n",
    "from sklearn.ensemble import RandomForestClassifier, AdaBoostClassifier, ExtraTreesClassifier, GradientBoostingClassifier\n",
    "from sklearn.tree import DecisionTreeClassifier\n",
    "from sklearn.svm import SVC"
   ]
  },
  {
   "cell_type": "markdown",
   "metadata": {},
   "source": [
    "### Import data"
   ]
  },
  {
   "cell_type": "code",
   "execution_count": 3,
   "metadata": {},
   "outputs": [],
   "source": [
    "# Load dataframe\n",
    "infile = open('../datasets/clickbait_headlines/clickbait_df_processed.pkl','rb')\n",
    "df = pickle.load(infile)\n",
    "infile.close()"
   ]
  },
  {
   "cell_type": "code",
   "execution_count": 4,
   "metadata": {},
   "outputs": [
    {
     "data": {
      "text/html": [
       "<div>\n",
       "<style scoped>\n",
       "    .dataframe tbody tr th:only-of-type {\n",
       "        vertical-align: middle;\n",
       "    }\n",
       "\n",
       "    .dataframe tbody tr th {\n",
       "        vertical-align: top;\n",
       "    }\n",
       "\n",
       "    .dataframe thead th {\n",
       "        text-align: right;\n",
       "    }\n",
       "</style>\n",
       "<table border=\"1\" class=\"dataframe\">\n",
       "  <thead>\n",
       "    <tr style=\"text-align: right;\">\n",
       "      <th></th>\n",
       "      <th>title</th>\n",
       "      <th>clickbait</th>\n",
       "      <th>title_length</th>\n",
       "      <th>num_stopwords</th>\n",
       "    </tr>\n",
       "  </thead>\n",
       "  <tbody>\n",
       "    <tr>\n",
       "      <th>0</th>\n",
       "      <td>should i get bings</td>\n",
       "      <td>1</td>\n",
       "      <td>4</td>\n",
       "      <td>2</td>\n",
       "    </tr>\n",
       "    <tr>\n",
       "      <th>1</th>\n",
       "      <td>which tv female friend group do you belong in</td>\n",
       "      <td>1</td>\n",
       "      <td>9</td>\n",
       "      <td>4</td>\n",
       "    </tr>\n",
       "    <tr>\n",
       "      <th>2</th>\n",
       "      <td>the new star wars the force awakens trailer is...</td>\n",
       "      <td>1</td>\n",
       "      <td>14</td>\n",
       "      <td>6</td>\n",
       "    </tr>\n",
       "    <tr>\n",
       "      <th>3</th>\n",
       "      <td>this vine of new york on celebrity big brother...</td>\n",
       "      <td>1</td>\n",
       "      <td>12</td>\n",
       "      <td>4</td>\n",
       "    </tr>\n",
       "    <tr>\n",
       "      <th>4</th>\n",
       "      <td>a couple did a stunning photo shoot with their...</td>\n",
       "      <td>1</td>\n",
       "      <td>18</td>\n",
       "      <td>9</td>\n",
       "    </tr>\n",
       "  </tbody>\n",
       "</table>\n",
       "</div>"
      ],
      "text/plain": [
       "                                               title  clickbait  title_length  \\\n",
       "0                                 should i get bings          1             4   \n",
       "1      which tv female friend group do you belong in          1             9   \n",
       "2  the new star wars the force awakens trailer is...          1            14   \n",
       "3  this vine of new york on celebrity big brother...          1            12   \n",
       "4  a couple did a stunning photo shoot with their...          1            18   \n",
       "\n",
       "   num_stopwords  \n",
       "0              2  \n",
       "1              4  \n",
       "2              6  \n",
       "3              4  \n",
       "4              9  "
      ]
     },
     "execution_count": 4,
     "metadata": {},
     "output_type": "execute_result"
    }
   ],
   "source": [
    "df.head()"
   ]
  },
  {
   "cell_type": "code",
   "execution_count": 6,
   "metadata": {},
   "outputs": [
    {
     "data": {
      "text/plain": [
       "(32000, 4)"
      ]
     },
     "execution_count": 6,
     "metadata": {},
     "output_type": "execute_result"
    }
   ],
   "source": [
    "df.shape"
   ]
  },
  {
   "cell_type": "code",
   "execution_count": 5,
   "metadata": {},
   "outputs": [
    {
     "data": {
      "text/plain": [
       "title            0\n",
       "clickbait        0\n",
       "title_length     0\n",
       "num_stopwords    0\n",
       "dtype: int64"
      ]
     },
     "execution_count": 5,
     "metadata": {},
     "output_type": "execute_result"
    }
   ],
   "source": [
    "# Check null values\n",
    "df.isnull().sum()"
   ]
  },
  {
   "cell_type": "markdown",
   "metadata": {},
   "source": [
    "## Data Preparation\n",
    "\n",
    "We want to convert the textual data into numerical data before we start fitting the models. We use sklearn's `TfidfVectorizer` to do so."
   ]
  },
  {
   "cell_type": "code",
   "execution_count": 7,
   "metadata": {},
   "outputs": [],
   "source": [
    "# Split into train and test (hold-out) data\n",
    "df_train, df_test = train_test_split(df, test_size=0.2, random_state=42)"
   ]
  },
  {
   "cell_type": "code",
   "execution_count": 8,
   "metadata": {},
   "outputs": [],
   "source": [
    "# Instantiate vectorizer\n",
    "tvec = TfidfVectorizer(min_df=3, ngram_range=(1,5))\n",
    "\n",
    "# Fit and transform textual data\n",
    "X_train_tvec = tvec.fit_transform(df_train['title'])\n",
    "X_test_tvec = tvec.transform(df_test['title'])"
   ]
  },
  {
   "cell_type": "markdown",
   "metadata": {},
   "source": [
    "For the engineered features, they are already numerical, we just need to scale them."
   ]
  },
  {
   "cell_type": "code",
   "execution_count": 11,
   "metadata": {},
   "outputs": [],
   "source": [
    "# Scale engineered features\n",
    "ss = StandardScaler()\n",
    "X_train_val = ss.fit_transform(df_train[['title_length', 'num_stopwords']])\n",
    "X_test_val = ss.transform(df_test[['title_length', 'num_stopwords']])"
   ]
  },
  {
   "cell_type": "markdown",
   "metadata": {},
   "source": [
    "We want to combine the word vectors with the scaled engineered features into sparse arrays. Sparse arrays will save memory."
   ]
  },
  {
   "cell_type": "code",
   "execution_count": 13,
   "metadata": {},
   "outputs": [],
   "source": [
    "X_train = sparse.hstack([X_train_tvec, X_train_val]).tocsr()\n",
    "X_test = sparse.hstack([X_test_tvec, X_test_val]).tocsr()"
   ]
  },
  {
   "cell_type": "code",
   "execution_count": 48,
   "metadata": {},
   "outputs": [],
   "source": [
    "y_train = df_train['clickbait']\n",
    "y_test = df_test['clickbait']"
   ]
  },
  {
   "cell_type": "markdown",
   "metadata": {},
   "source": [
    "## Modelling"
   ]
  },
  {
   "cell_type": "code",
   "execution_count": 49,
   "metadata": {},
   "outputs": [],
   "source": [
    "# Function to run the models using Gridsearch\n",
    "# Scoring optimized on accuracy by default\n",
    "\n",
    "def run_gs_models(models, model_params):\n",
    "    gs_models = []\n",
    "    model_scores = []\n",
    "    \n",
    "    print('Training...\\n-------------------')\n",
    "    \n",
    "    for m_key, model in models.items():\n",
    "        \n",
    "        # Instantiate GridSearchCV 5-fold\n",
    "        gs = GridSearchCV(model, param_grid = model_params[m_key], cv=5)\n",
    "        \n",
    "        t0 = datetime.now()\n",
    "        print(f'Model start run... {model}')\n",
    "        # Fit GridSearch to training data\n",
    "        gs.fit(X_train, y_train)\n",
    "        print(f'Done! Runtime - {datetime.now() - t0}')\n",
    "        \n",
    "        # Append to the lists\n",
    "        model_scores.append(gs.best_score_)\n",
    "        gs_models.append(gs)\n",
    "        \n",
    "    print('ALL DONE!\\n-------------------')\n",
    "    \n",
    "    return gs_models, model_scores    "
   ]
  },
  {
   "cell_type": "code",
   "execution_count": 55,
   "metadata": {},
   "outputs": [],
   "source": [
    "# Set up for all models to be run\n",
    "models = {\n",
    "    'lr': LogisticRegression(max_iter=5_000),\n",
    "    'nb': BernoulliNB(),\n",
    "    'rf': RandomForestClassifier(random_state=42),\n",
    "    'et': ExtraTreesClassifier(random_state=42),\n",
    "    'ada': AdaBoostClassifier(random_state=42),\n",
    "    'gboost': GradientBoostingClassifier(),\n",
    "    'svc': SVC()\n",
    "}\n",
    "\n",
    "# Set up all the hyperparameters to Gridsearch\n",
    "model_params = {\n",
    "    'lr': {'C': np.linspace(0.1, 1, 5)},\n",
    "    'nb': {'alpha': [0.9, 1, 1.1]},\n",
    "    'rf': {'n_estimators': [80, 100, 120],\n",
    "           'max_depth': [3, 5, 7],\n",
    "           'min_samples_leaf': [2, 4],\n",
    "           'min_samples_split' : [2, 3, 4]},\n",
    "    'et': {'n_estimators': [80, 100, 120],\n",
    "           'max_depth': [3, 5, 7],\n",
    "           'min_samples_leaf': [2, 4],\n",
    "           'min_samples_split' : [2, 4, 5]},\n",
    "    'ada': {'n_estimators': [20, 30, 40, 50],\n",
    "            'learning_rate': [0.8, 1]},\n",
    "    'gboost': {'n_estimators': [80, 100, 120],\n",
    "               'max_depth': [2, 3],\n",
    "               'min_samples_split': [2, 4]},\n",
    "    'svc': {'C': np.linspace(0.1, 1, 5)}\n",
    "}\n",
    "\n",
    "# Names of models\n",
    "model_name = ['Logistic Regression',\n",
    "             'Naive Bayes',\n",
    "             'Random Forest',\n",
    "             'Extra Trees',\n",
    "             'AdaBoost',\n",
    "             'GradientBoosting',\n",
    "             'Support Vector']"
   ]
  },
  {
   "cell_type": "code",
   "execution_count": 56,
   "metadata": {},
   "outputs": [
    {
     "name": "stdout",
     "output_type": "stream",
     "text": [
      "Training...\n",
      "-------------------\n",
      "Model start run... LogisticRegression(max_iter=5000)\n",
      "Done! Runtime - 0:00:14.470342\n",
      "Model start run... BernoulliNB()\n",
      "Done! Runtime - 0:00:00.315158\n",
      "Model start run... RandomForestClassifier(random_state=42)\n",
      "Done! Runtime - 0:02:49.804154\n",
      "Model start run... ExtraTreesClassifier(random_state=42)\n",
      "Done! Runtime - 0:02:43.785686\n",
      "Model start run... AdaBoostClassifier(random_state=42)\n",
      "Done! Runtime - 0:01:37.891871\n",
      "Model start run... GradientBoostingClassifier()\n",
      "Done! Runtime - 0:09:44.512500\n",
      "Model start run... SVC()\n",
      "Done! Runtime - 0:23:35.721579\n",
      "ALL DONE!\n",
      "-------------------\n"
     ]
    }
   ],
   "source": [
    "# Run the models\n",
    "gs_models, model_scores = run_gs_models(models, model_params)"
   ]
  },
  {
   "cell_type": "code",
   "execution_count": 58,
   "metadata": {},
   "outputs": [],
   "source": [
    "# Save the files just in case\n",
    "pickle.dump(gs_models, open('gs_models.pkl', 'wb'))\n",
    "pickle.dump(model_scores, open('model_scores.pkl', 'wb'))"
   ]
  },
  {
   "cell_type": "code",
   "execution_count": 59,
   "metadata": {},
   "outputs": [
    {
     "data": {
      "text/html": [
       "<div>\n",
       "<style scoped>\n",
       "    .dataframe tbody tr th:only-of-type {\n",
       "        vertical-align: middle;\n",
       "    }\n",
       "\n",
       "    .dataframe tbody tr th {\n",
       "        vertical-align: top;\n",
       "    }\n",
       "\n",
       "    .dataframe thead th {\n",
       "        text-align: right;\n",
       "    }\n",
       "</style>\n",
       "<table border=\"1\" class=\"dataframe\">\n",
       "  <thead>\n",
       "    <tr style=\"text-align: right;\">\n",
       "      <th></th>\n",
       "      <th>Model Type</th>\n",
       "      <th>CV Score</th>\n",
       "      <th>Precision</th>\n",
       "      <th>Recall</th>\n",
       "      <th>F1-Score</th>\n",
       "    </tr>\n",
       "  </thead>\n",
       "  <tbody>\n",
       "    <tr>\n",
       "      <th>1</th>\n",
       "      <td>Naive Bayes</td>\n",
       "      <td>0.967969</td>\n",
       "      <td>0.968219</td>\n",
       "      <td>0.968281</td>\n",
       "      <td>0.967812</td>\n",
       "    </tr>\n",
       "    <tr>\n",
       "      <th>6</th>\n",
       "      <td>Support Vector</td>\n",
       "      <td>0.965195</td>\n",
       "      <td>0.966962</td>\n",
       "      <td>0.967125</td>\n",
       "      <td>0.967021</td>\n",
       "    </tr>\n",
       "    <tr>\n",
       "      <th>0</th>\n",
       "      <td>Logistic Regression</td>\n",
       "      <td>0.960273</td>\n",
       "      <td>0.960602</td>\n",
       "      <td>0.960840</td>\n",
       "      <td>0.960619</td>\n",
       "    </tr>\n",
       "    <tr>\n",
       "      <th>5</th>\n",
       "      <td>GradientBoosting</td>\n",
       "      <td>0.908047</td>\n",
       "      <td>0.905866</td>\n",
       "      <td>0.905997</td>\n",
       "      <td>0.905623</td>\n",
       "    </tr>\n",
       "    <tr>\n",
       "      <th>4</th>\n",
       "      <td>AdaBoost</td>\n",
       "      <td>0.907070</td>\n",
       "      <td>0.904224</td>\n",
       "      <td>0.902290</td>\n",
       "      <td>0.901188</td>\n",
       "    </tr>\n",
       "    <tr>\n",
       "      <th>2</th>\n",
       "      <td>Random Forest</td>\n",
       "      <td>0.882500</td>\n",
       "      <td>0.894809</td>\n",
       "      <td>0.883261</td>\n",
       "      <td>0.880424</td>\n",
       "    </tr>\n",
       "    <tr>\n",
       "      <th>3</th>\n",
       "      <td>Extra Trees</td>\n",
       "      <td>0.864453</td>\n",
       "      <td>0.888738</td>\n",
       "      <td>0.872244</td>\n",
       "      <td>0.868571</td>\n",
       "    </tr>\n",
       "  </tbody>\n",
       "</table>\n",
       "</div>"
      ],
      "text/plain": [
       "            Model Type  CV Score  Precision    Recall  F1-Score\n",
       "1          Naive Bayes  0.967969   0.968219  0.968281  0.967812\n",
       "6       Support Vector  0.965195   0.966962  0.967125  0.967021\n",
       "0  Logistic Regression  0.960273   0.960602  0.960840  0.960619\n",
       "5     GradientBoosting  0.908047   0.905866  0.905997  0.905623\n",
       "4             AdaBoost  0.907070   0.904224  0.902290  0.901188\n",
       "2        Random Forest  0.882500   0.894809  0.883261  0.880424\n",
       "3          Extra Trees  0.864453   0.888738  0.872244  0.868571"
      ]
     },
     "execution_count": 59,
     "metadata": {},
     "output_type": "execute_result"
    }
   ],
   "source": [
    "# View the evaluation metrics for all models in a dataframe\n",
    "# Sorted by highest accuracy\n",
    "precision_list = []\n",
    "recall_list = []\n",
    "fscore_list = []\n",
    "for model in gs_models:\n",
    "    y_pred = model.predict(X_test)\n",
    "    precision, recall, fscore, support = precision_recall_fscore_support(y_test, y_pred, average='macro')\n",
    "    precision_list.append(precision)\n",
    "    recall_list.append(recall)\n",
    "    fscore_list.append(fscore)\n",
    "\n",
    "pd.DataFrame({'Model Type': model_name,\n",
    "             'CV Score': model_scores,\n",
    "             'Precision': precision_list,\n",
    "             'Recall': recall_list,\n",
    "             'F1-Score': fscore_list}).sort_values(by='CV Score', ascending=False)"
   ]
  },
  {
   "cell_type": "code",
   "execution_count": 60,
   "metadata": {},
   "outputs": [
    {
     "data": {
      "image/png": "[encoded data removed]",
      "text/plain": [
       "<Figure size 864x576 with 1 Axes>"
      ]
     },
     "metadata": {
      "needs_background": "light"
     },
     "output_type": "display_data"
    }
   ],
   "source": [
    "# Plotting the ROC curves for every model\n",
    "plt.figure(figsize=(12,8))\n",
    "ax = plt.gca()\n",
    "for model, m_name in zip(gs_models, model_name):\n",
    "    plot_roc_curve(model, X_test, y_test, name=m_name, ax=ax)\n",
    "plt.title('ROC-AUC Curves of Models', fontsize=15);"
   ]
  },
  {
   "cell_type": "code",
   "execution_count": 61,
   "metadata": {},
   "outputs": [],
   "source": [
    "# Function to plot multiple confusion matrix\n",
    "def subplot_confusion_matrix(model_list, model_name, X_test, y_test):\n",
    "    nrows = int(np.ceil(len(model_list)/3))   # Ensure have enough rows\n",
    "    fig, ax = plt.subplots(nrows=nrows, ncols=3, figsize=(14, nrows*4))   \n",
    "    plt.subplots_adjust(hspace = 0.4)\n",
    "    ax = ax.ravel()   # Ravel turns a matrix into a vector, which is easier to iterate\n",
    "    for i, model in enumerate(model_list):   # Gives us an index value to get into all our lists\n",
    "        plot_confusion_matrix(model, X_test, y_test, cmap='Blues', values_format='d', ax=ax[i])\n",
    "        ax[i].set_title(model_name[i])\n",
    "    \n",
    "        # display scale and label only on the left edge\n",
    "        if i%3 != 0:\n",
    "            ax[i].set_ylabel('')\n",
    "            ax[i].set_yticklabels('')\n",
    "    # This code below is to switch off the axes if there is an odd number of subplots\n",
    "    for axes in ax.flat[len(model_list):]:\n",
    "        axes.axis('off')\n",
    "    fig.tight_layout()\n",
    "    pass"
   ]
  },
  {
   "cell_type": "code",
   "execution_count": 62,
   "metadata": {},
   "outputs": [
    {
     "data": {
      "image/png": "[encoded data removed]",
      "text/plain": [
       "<Figure size 1008x864 with 16 Axes>"
      ]
     },
     "metadata": {
      "needs_background": "light"
     },
     "output_type": "display_data"
    }
   ],
   "source": [
    "# Plotting confusion matrix for all models\n",
    "subplot_confusion_matrix(gs_models, model_name, X_test, y_test)"
   ]
  },
  {
   "cell_type": "code",
   "execution_count": null,
   "metadata": {},
   "outputs": [],
   "source": []
  },
  {
   "cell_type": "code",
   "execution_count": null,
   "metadata": {},
   "outputs": [],
   "source": []
  }
 ],
 "metadata": {
  "kernelspec": {
   "display_name": "Python 3",
   "language": "python",
   "name": "python3"
  },
  "language_info": {
   "codemirror_mode": {
    "name": "ipython",
    "version": 3
   },
   "file_extension": ".py",
   "mimetype": "text/x-python",
   "name": "python",
   "nbconvert_exporter": "python",
   "pygments_lexer": "ipython3",
   "version": "3.7.6"
  }
 },
 "nbformat": 4,
 "nbformat_minor": 4
}
